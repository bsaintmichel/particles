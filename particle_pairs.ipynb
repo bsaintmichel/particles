{
 "cells": [
  {
   "cell_type": "markdown",
   "metadata": {},
   "source": [
    "# Scripts Antoine"
   ]
  },
  {
   "cell_type": "code",
   "execution_count": 2,
   "metadata": {},
   "outputs": [],
   "source": [
    "# Parameters\n",
    "file_location = \"images/5 mins_t0.jpg\"\n",
    "file_location = \"images/20 mins_t9.jpg\"\n",
    "particle_pixel_size = 8"
   ]
  },
  {
   "cell_type": "markdown",
   "metadata": {},
   "source": [
    "## Data Processing"
   ]
  },
  {
   "cell_type": "code",
   "execution_count": 7,
   "metadata": {},
   "outputs": [
    {
     "name": "stdout",
     "output_type": "stream",
     "text": [
      " > 01947 particles found\n"
     ]
    }
   ],
   "source": [
    "import numpy as np\n",
    "import trackpy as tp\n",
    "import pandas as pd\n",
    "from PIL import Image\n",
    "from skimage.exposure import equalize_adapthist\n",
    "import functions as fun\n",
    "\n",
    "# Opening, preprocessing the image\n",
    "img = Image.open(file_location, mode='r')\n",
    "img_array = np.array(img)\n",
    "img_norm = equalize_adapthist(img_array)\n",
    "img_info = {'height' : np.shape(img_array)[0], 'width' : np.shape(img_norm)[1]}\n",
    "\n",
    "# Particle detection\n",
    "locations_comp = tp.locate(img_norm, 9, minmass=4, separation=9, invert=True)\n",
    "locations = tp.locate(img_norm, 9, minmass=3.5, separation=5, invert=True, threshold=0.05)\n",
    "\n",
    "# Particle pair computation\n",
    "rho_ctrs, g = fun.particle_pair(locations, img_info, particle_pixel_size, rhos=np.linspace(0.01,5*particle_pixel_size, 100))\n",
    "\n",
    "def export_g_rho(rho_ctrs, g, file_name='data.csv'):\n",
    "    data = pd.DataFrame({'rho':rho_ctrs, 'g':g})\n",
    "    data.to_csv(file_name)\n",
    "\n",
    "export_g_rho(rho_ctrs, g)\n",
    "print(' > {:05d} particles found'.format(len(locations)))"
   ]
  },
  {
   "cell_type": "markdown",
   "metadata": {},
   "source": [
    "## Plotting figure with particle positions"
   ]
  },
  {
   "cell_type": "code",
   "execution_count": 8,
   "metadata": {},
   "outputs": [],
   "source": [
    "from bokeh.plotting import figure, show\n",
    "\n",
    "f = figure(tooltips=[('x', '$x'),('y', '$y'),('lum', '@image')])\n",
    "f.image([1-img_norm], x=0, y=0, dw=img_info['width'], dh=img_info['height'])\n",
    "f.scatter(locations_comp['x'], locations_comp['y'], marker='+', line_color='lime', size=5)\n",
    "f.scatter(locations['x'], locations['y'], marker='x', line_color='red', size=5)\n",
    "show(f)"
   ]
  },
  {
   "cell_type": "markdown",
   "metadata": {},
   "source": [
    "## Plotting figure with $g(\\rho)$"
   ]
  },
  {
   "cell_type": "code",
   "execution_count": 11,
   "metadata": {},
   "outputs": [],
   "source": [
    "from bokeh.plotting import figure, show\n",
    "\n",
    "f = figure()\n",
    "f.line(rho_ctrs, g)\n",
    "f.line([1,1], [0,np.max(g)], line_dash='dotted', line_color='black')\n",
    "f.line(rho_ctrs, np.ones(np.size(rho_ctrs)), line_dash='dashed', line_color='black')\n",
    "show(f)"
   ]
  },
  {
   "cell_type": "markdown",
   "metadata": {},
   "source": [
    "## 'Mass' of particles"
   ]
  },
  {
   "cell_type": "code",
   "execution_count": null,
   "metadata": {},
   "outputs": [],
   "source": [
    "from bokeh.plotting import figure, show\n",
    "\n",
    "mss, bins = np.histogram(locations['mass'], bins=100)\n",
    "f = figure()\n",
    "f.quad(left=bins[:-1], right=bins[1:], top=mss, bottom=0*mss)\n",
    "show(f)"
   ]
  },
  {
   "cell_type": "code",
   "execution_count": 13,
   "metadata": {},
   "outputs": [
    {
     "data": {
      "text/html": [
       "<div>\n",
       "<style scoped>\n",
       "    .dataframe tbody tr th:only-of-type {\n",
       "        vertical-align: middle;\n",
       "    }\n",
       "\n",
       "    .dataframe tbody tr th {\n",
       "        vertical-align: top;\n",
       "    }\n",
       "\n",
       "    .dataframe thead th {\n",
       "        text-align: right;\n",
       "    }\n",
       "</style>\n",
       "<table border=\"1\" class=\"dataframe\">\n",
       "  <thead>\n",
       "    <tr style=\"text-align: right;\">\n",
       "      <th></th>\n",
       "      <th>y</th>\n",
       "      <th>x</th>\n",
       "      <th>mass</th>\n",
       "      <th>size</th>\n",
       "      <th>ecc</th>\n",
       "      <th>signal</th>\n",
       "      <th>raw_mass</th>\n",
       "      <th>ep</th>\n",
       "    </tr>\n",
       "  </thead>\n",
       "  <tbody>\n",
       "    <tr>\n",
       "      <th>0</th>\n",
       "      <td>3.407386</td>\n",
       "      <td>39.072978</td>\n",
       "      <td>5.530075</td>\n",
       "      <td>2.121666</td>\n",
       "      <td>0.100173</td>\n",
       "      <td>0.286877</td>\n",
       "      <td>34.442606</td>\n",
       "      <td>0.048986</td>\n",
       "    </tr>\n",
       "    <tr>\n",
       "      <th>1</th>\n",
       "      <td>5.311453</td>\n",
       "      <td>62.909622</td>\n",
       "      <td>8.321045</td>\n",
       "      <td>2.389718</td>\n",
       "      <td>0.072846</td>\n",
       "      <td>0.301464</td>\n",
       "      <td>39.022836</td>\n",
       "      <td>0.042332</td>\n",
       "    </tr>\n",
       "    <tr>\n",
       "      <th>2</th>\n",
       "      <td>4.284588</td>\n",
       "      <td>85.094808</td>\n",
       "      <td>9.864021</td>\n",
       "      <td>2.490633</td>\n",
       "      <td>0.089484</td>\n",
       "      <td>0.301464</td>\n",
       "      <td>39.776163</td>\n",
       "      <td>0.041407</td>\n",
       "    </tr>\n",
       "    <tr>\n",
       "      <th>3</th>\n",
       "      <td>3.766847</td>\n",
       "      <td>118.071073</td>\n",
       "      <td>7.479865</td>\n",
       "      <td>2.391842</td>\n",
       "      <td>0.093227</td>\n",
       "      <td>0.264186</td>\n",
       "      <td>40.247955</td>\n",
       "      <td>0.040848</td>\n",
       "    </tr>\n",
       "    <tr>\n",
       "      <th>4</th>\n",
       "      <td>3.355832</td>\n",
       "      <td>133.057113</td>\n",
       "      <td>4.682411</td>\n",
       "      <td>2.278620</td>\n",
       "      <td>0.172531</td>\n",
       "      <td>0.226908</td>\n",
       "      <td>38.671511</td>\n",
       "      <td>0.042777</td>\n",
       "    </tr>\n",
       "    <tr>\n",
       "      <th>...</th>\n",
       "      <td>...</td>\n",
       "      <td>...</td>\n",
       "      <td>...</td>\n",
       "      <td>...</td>\n",
       "      <td>...</td>\n",
       "      <td>...</td>\n",
       "      <td>...</td>\n",
       "      <td>...</td>\n",
       "    </tr>\n",
       "    <tr>\n",
       "      <th>2368</th>\n",
       "      <td>507.235019</td>\n",
       "      <td>343.761470</td>\n",
       "      <td>6.923940</td>\n",
       "      <td>2.108426</td>\n",
       "      <td>0.131257</td>\n",
       "      <td>0.340362</td>\n",
       "      <td>33.606667</td>\n",
       "      <td>0.050433</td>\n",
       "    </tr>\n",
       "    <tr>\n",
       "      <th>2369</th>\n",
       "      <td>507.277298</td>\n",
       "      <td>361.255115</td>\n",
       "      <td>6.575474</td>\n",
       "      <td>2.230163</td>\n",
       "      <td>0.218461</td>\n",
       "      <td>0.296601</td>\n",
       "      <td>36.276591</td>\n",
       "      <td>0.046085</td>\n",
       "    </tr>\n",
       "    <tr>\n",
       "      <th>2370</th>\n",
       "      <td>507.658046</td>\n",
       "      <td>431.034483</td>\n",
       "      <td>3.948202</td>\n",
       "      <td>1.886452</td>\n",
       "      <td>0.043825</td>\n",
       "      <td>0.267427</td>\n",
       "      <td>35.136280</td>\n",
       "      <td>0.047847</td>\n",
       "    </tr>\n",
       "    <tr>\n",
       "      <th>2371</th>\n",
       "      <td>507.085736</td>\n",
       "      <td>459.160988</td>\n",
       "      <td>4.329083</td>\n",
       "      <td>2.083164</td>\n",
       "      <td>0.202592</td>\n",
       "      <td>0.215563</td>\n",
       "      <td>40.548174</td>\n",
       "      <td>0.040500</td>\n",
       "    </tr>\n",
       "    <tr>\n",
       "      <th>2372</th>\n",
       "      <td>506.866387</td>\n",
       "      <td>470.502973</td>\n",
       "      <td>4.633788</td>\n",
       "      <td>1.950865</td>\n",
       "      <td>0.094264</td>\n",
       "      <td>0.285256</td>\n",
       "      <td>33.722677</td>\n",
       "      <td>0.050227</td>\n",
       "    </tr>\n",
       "  </tbody>\n",
       "</table>\n",
       "<p>1947 rows × 8 columns</p>\n",
       "</div>"
      ],
      "text/plain": [
       "               y           x      mass      size       ecc    signal  \\\n",
       "0       3.407386   39.072978  5.530075  2.121666  0.100173  0.286877   \n",
       "1       5.311453   62.909622  8.321045  2.389718  0.072846  0.301464   \n",
       "2       4.284588   85.094808  9.864021  2.490633  0.089484  0.301464   \n",
       "3       3.766847  118.071073  7.479865  2.391842  0.093227  0.264186   \n",
       "4       3.355832  133.057113  4.682411  2.278620  0.172531  0.226908   \n",
       "...          ...         ...       ...       ...       ...       ...   \n",
       "2368  507.235019  343.761470  6.923940  2.108426  0.131257  0.340362   \n",
       "2369  507.277298  361.255115  6.575474  2.230163  0.218461  0.296601   \n",
       "2370  507.658046  431.034483  3.948202  1.886452  0.043825  0.267427   \n",
       "2371  507.085736  459.160988  4.329083  2.083164  0.202592  0.215563   \n",
       "2372  506.866387  470.502973  4.633788  1.950865  0.094264  0.285256   \n",
       "\n",
       "       raw_mass        ep  \n",
       "0     34.442606  0.048986  \n",
       "1     39.022836  0.042332  \n",
       "2     39.776163  0.041407  \n",
       "3     40.247955  0.040848  \n",
       "4     38.671511  0.042777  \n",
       "...         ...       ...  \n",
       "2368  33.606667  0.050433  \n",
       "2369  36.276591  0.046085  \n",
       "2370  35.136280  0.047847  \n",
       "2371  40.548174  0.040500  \n",
       "2372  33.722677  0.050227  \n",
       "\n",
       "[1947 rows x 8 columns]"
      ]
     },
     "execution_count": 13,
     "metadata": {},
     "output_type": "execute_result"
    }
   ],
   "source": [
    "locations"
   ]
  },
  {
   "cell_type": "code",
   "execution_count": null,
   "metadata": {},
   "outputs": [],
   "source": []
  }
 ],
 "metadata": {
  "kernelspec": {
   "display_name": "Python 3.9.7 64-bit",
   "language": "python",
   "name": "python3"
  },
  "language_info": {
   "codemirror_mode": {
    "name": "ipython",
    "version": 3
   },
   "file_extension": ".py",
   "mimetype": "text/x-python",
   "name": "python",
   "nbconvert_exporter": "python",
   "pygments_lexer": "ipython3",
   "version": "3.9.7"
  },
  "orig_nbformat": 4,
  "vscode": {
   "interpreter": {
    "hash": "cb9c252e610b593a3421828f92740a33c32c552b9658c846af1824aa6c7c0cc9"
   }
  }
 },
 "nbformat": 4,
 "nbformat_minor": 2
}
