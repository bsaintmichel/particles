{
 "cells": [
  {
   "cell_type": "markdown",
   "metadata": {},
   "source": [
    "# Scripts Antoine"
   ]
  },
  {
   "cell_type": "code",
   "execution_count": 2,
   "metadata": {},
   "outputs": [],
   "source": [
    "# Parameters\n",
    "file_location = r\"C:\\fichier.jpg\"\n",
    "# file_location = \"images/20 mins_t9.jpg\"\n",
    "particle_pixel_size = 8"
   ]
  },
  {
   "cell_type": "markdown",
   "metadata": {},
   "source": [
    "## Data Processing"
   ]
  },
  {
   "cell_type": "code",
   "execution_count": 5,
   "metadata": {},
   "outputs": [
    {
     "name": "stdout",
     "output_type": "stream",
     "text": [
      " > 02149 particles found\n"
     ]
    }
   ],
   "source": [
    "import numpy as np\n",
    "import trackpy as tp\n",
    "import pandas as pd\n",
    "from PIL import Image\n",
    "from skimage.exposure import equalize_adapthist\n",
    "import functions as fun\n",
    "\n",
    "# Opening, preprocessing the image\n",
    "img = Image.open(file_location, mode='r')\n",
    "img_array = np.array(img)\n",
    "img_norm = equalize_adapthist(img_array)\n",
    "img_info = {'height' : np.shape(img_array)[0], 'width' : np.shape(img_norm)[1]}\n",
    "\n",
    "# Particle detection\n",
    "locations_comp = tp.locate(img_norm, 9, minmass=4, separation=9, invert=True)\n",
    "locations = tp.locate(img_norm, 9, minmass=1, separation=5, invert=True, threshold=0.05)\n",
    "\n",
    "# Particle pair computation\n",
    "rho_ctrs, g = fun.particle_pair(locations, img_info, particle_pixel_size, rhos=np.linspace(0.01,5*particle_pixel_size, 100))\n",
    "\n",
    "def export_g_rho(rho_ctrs, g, file_name='data.csv'):\n",
    "    data = pd.DataFrame({'rho':rho_ctrs, 'g':g})\n",
    "    data.to_csv(file_name)\n",
    "\n",
    "export_g_rho(rho_ctrs, g)\n",
    "print(' > {:05d} particles found'.format(len(locations)))"
   ]
  },
  {
   "cell_type": "markdown",
   "metadata": {},
   "source": [
    "## Plotting figure with particle positions"
   ]
  },
  {
   "cell_type": "code",
   "execution_count": 4,
   "metadata": {},
   "outputs": [],
   "source": [
    "from bokeh.plotting import figure, show\n",
    "\n",
    "f = figure(width=1000, height=1000, tooltips=[('x', '$x'),('y', '$y'),('lum', '@image')])\n",
    "f.image([1-img_norm], x=0, y=0, dw=img_info['width'], dh=img_info['height'])\n",
    "f.scatter(locations_comp['x'], locations_comp['y'], marker='+', line_color='lime', size=5)\n",
    "f.scatter(locations['x'], locations['y'], marker='x', line_color='red', size=5)\n",
    "show(f)"
   ]
  },
  {
   "cell_type": "markdown",
   "metadata": {},
   "source": [
    "## Plotting figure with $g(\\rho)$"
   ]
  },
  {
   "cell_type": "code",
   "execution_count": 24,
   "metadata": {},
   "outputs": [],
   "source": [
    "from bokeh.plotting import figure, show\n",
    "\n",
    "f = figure()\n",
    "f.line(rho_ctrs, g)\n",
    "f.line([1,1], [0,np.max(g)], line_dash='dotted', line_color='black')\n",
    "f.line(rho_ctrs, np.ones(np.size(rho_ctrs)), line_dash='dashed', line_color='black')\n",
    "show(f)"
   ]
  },
  {
   "cell_type": "markdown",
   "metadata": {},
   "source": [
    "## 'Mass' of particles"
   ]
  },
  {
   "cell_type": "code",
   "execution_count": 19,
   "metadata": {},
   "outputs": [],
   "source": [
    "from bokeh.plotting import figure, show\n",
    "\n",
    "mss, bins = np.histogram(locations['mass'], bins=100)\n",
    "f = figure()\n",
    "f.quad(left=bins[:-1], right=bins[1:], top=mss, bottom=0*mss)\n",
    "show(f)"
   ]
  }
 ],
 "metadata": {
  "kernelspec": {
   "display_name": "Python 3.9.7 64-bit",
   "language": "python",
   "name": "python3"
  },
  "language_info": {
   "codemirror_mode": {
    "name": "ipython",
    "version": 3
   },
   "file_extension": ".py",
   "mimetype": "text/x-python",
   "name": "python",
   "nbconvert_exporter": "python",
   "pygments_lexer": "ipython3",
   "version": "3.9.7"
  },
  "orig_nbformat": 4,
  "vscode": {
   "interpreter": {
    "hash": "cb9c252e610b593a3421828f92740a33c32c552b9658c846af1824aa6c7c0cc9"
   }
  }
 },
 "nbformat": 4,
 "nbformat_minor": 2
}
